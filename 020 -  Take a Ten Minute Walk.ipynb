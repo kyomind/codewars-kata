{
 "cells": [
  {
   "cell_type": "code",
   "execution_count": 2,
   "metadata": {
    "ExecuteTime": {
     "end_time": "2021-03-19T01:48:49.298409Z",
     "start_time": "2021-03-19T01:48:49.292939Z"
    }
   },
   "outputs": [],
   "source": [
    "def is_valid_walk(walk):\n",
    "    s_steps = walk.count('s')\n",
    "    n_steps = walk.count('n')\n",
    "    e_steps = walk.count('e')\n",
    "    w_steps = walk.count('w')\n",
    "    if len(walk) == 10 and s_steps == n_steps and e_steps == w_steps:\n",
    "        return True\n",
    "    return False"
   ]
  },
  {
   "cell_type": "code",
   "execution_count": null,
   "metadata": {},
   "outputs": [],
   "source": [
    "def isValidWalk(walk):\n",
    "    return len(walk) == 10 and walk.count('n') == walk.count(\n",
    "        's') and walk.count('e') == walk.count('w')"
   ]
  }
 ],
 "metadata": {
  "kernelspec": {
   "display_name": "Python 3",
   "language": "python",
   "name": "python3"
  },
  "language_info": {
   "codemirror_mode": {
    "name": "ipython",
    "version": 3
   },
   "file_extension": ".py",
   "mimetype": "text/x-python",
   "name": "python",
   "nbconvert_exporter": "python",
   "pygments_lexer": "ipython3",
   "version": "3.7.4"
  }
 },
 "nbformat": 4,
 "nbformat_minor": 2
}
