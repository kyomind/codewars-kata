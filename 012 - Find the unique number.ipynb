{
 "cells": [
  {
   "cell_type": "code",
   "execution_count": null,
   "metadata": {},
   "outputs": [],
   "source": [
    "def find_uniq(arr):\n",
    "    # your code here\n",
    "    return n   # n: unique integer in the array"
   ]
  },
  {
   "cell_type": "code",
   "execution_count": 2,
   "metadata": {
    "ExecuteTime": {
     "end_time": "2021-03-17T01:47:09.988665Z",
     "start_time": "2021-03-17T01:47:09.982328Z"
    }
   },
   "outputs": [],
   "source": [
    "def one(n):\n",
    "    return 'equal 5' if n == 5 else 'NO'"
   ]
  },
  {
   "cell_type": "code",
   "execution_count": 3,
   "metadata": {
    "ExecuteTime": {
     "end_time": "2021-03-17T01:47:18.018917Z",
     "start_time": "2021-03-17T01:47:18.004692Z"
    }
   },
   "outputs": [
    {
     "data": {
      "text/plain": [
       "'equal 5'"
      ]
     },
     "execution_count": 3,
     "metadata": {},
     "output_type": "execute_result"
    }
   ],
   "source": [
    "one(5)"
   ]
  },
  {
   "cell_type": "code",
   "execution_count": 4,
   "metadata": {
    "ExecuteTime": {
     "end_time": "2021-03-17T01:47:27.008230Z",
     "start_time": "2021-03-17T01:47:27.003096Z"
    }
   },
   "outputs": [
    {
     "data": {
      "text/plain": [
       "'NO'"
      ]
     },
     "execution_count": 4,
     "metadata": {},
     "output_type": "execute_result"
    }
   ],
   "source": [
    "one(1)"
   ]
  },
  {
   "cell_type": "code",
   "execution_count": 8,
   "metadata": {
    "ExecuteTime": {
     "end_time": "2021-03-17T01:53:53.834040Z",
     "start_time": "2021-03-17T01:53:53.827350Z"
    }
   },
   "outputs": [],
   "source": [
    "def find_uniq(arr):\n",
    "    two_numbers = set(arr)\n",
    "    n1 = two_numbers.pop()\n",
    "    n2 = two_numbers.pop()\n",
    "    return n2 if arr[:3].count(n1) > 1 else n1"
   ]
  },
  {
   "cell_type": "code",
   "execution_count": 9,
   "metadata": {
    "ExecuteTime": {
     "end_time": "2021-03-17T01:53:54.185547Z",
     "start_time": "2021-03-17T01:53:54.178472Z"
    }
   },
   "outputs": [
    {
     "data": {
      "text/plain": [
       "2"
      ]
     },
     "execution_count": 9,
     "metadata": {},
     "output_type": "execute_result"
    }
   ],
   "source": [
    "find_uniq([ 1, 1, 1, 2, 1, 1 ])"
   ]
  },
  {
   "cell_type": "code",
   "execution_count": 10,
   "metadata": {
    "ExecuteTime": {
     "end_time": "2021-03-17T01:54:06.118749Z",
     "start_time": "2021-03-17T01:54:06.112779Z"
    }
   },
   "outputs": [
    {
     "data": {
      "text/plain": [
       "0.55"
      ]
     },
     "execution_count": 10,
     "metadata": {},
     "output_type": "execute_result"
    }
   ],
   "source": [
    "find_uniq([ 0, 0, 0.55, 0, 0 ])"
   ]
  },
  {
   "cell_type": "code",
   "execution_count": 11,
   "metadata": {
    "ExecuteTime": {
     "end_time": "2021-03-17T01:57:13.672565Z",
     "start_time": "2021-03-17T01:57:13.669866Z"
    }
   },
   "outputs": [],
   "source": [
    "lst = []"
   ]
  },
  {
   "cell_type": "code",
   "execution_count": 12,
   "metadata": {
    "ExecuteTime": {
     "end_time": "2021-03-17T01:57:24.369848Z",
     "start_time": "2021-03-17T01:57:24.366463Z"
    }
   },
   "outputs": [],
   "source": [
    "retn = lst.append(3)"
   ]
  },
  {
   "cell_type": "code",
   "execution_count": 14,
   "metadata": {
    "ExecuteTime": {
     "end_time": "2021-03-17T01:57:34.959598Z",
     "start_time": "2021-03-17T01:57:34.954716Z"
    }
   },
   "outputs": [
    {
     "data": {
      "text/plain": [
       "NoneType"
      ]
     },
     "execution_count": 14,
     "metadata": {},
     "output_type": "execute_result"
    }
   ],
   "source": [
    "type(retn)"
   ]
  },
  {
   "cell_type": "code",
   "execution_count": 15,
   "metadata": {
    "ExecuteTime": {
     "end_time": "2021-03-17T02:01:10.235341Z",
     "start_time": "2021-03-17T02:01:10.230797Z"
    }
   },
   "outputs": [],
   "source": [
    "def find_uniq_v2(arr):\n",
    "    two_numbers = set(arr)\n",
    "    n1 = two_numbers.pop()\n",
    "    n2 = two_numbers.pop()\n",
    "    return n1 if arr[:3].count(n1) < 2 else n2"
   ]
  },
  {
   "cell_type": "code",
   "execution_count": 16,
   "metadata": {
    "ExecuteTime": {
     "end_time": "2021-03-17T02:01:23.271065Z",
     "start_time": "2021-03-17T02:01:23.266582Z"
    }
   },
   "outputs": [
    {
     "data": {
      "text/plain": [
       "0.55"
      ]
     },
     "execution_count": 16,
     "metadata": {},
     "output_type": "execute_result"
    }
   ],
   "source": [
    "find_uniq_v2([ 0, 0, 0.55, 0, 0 ])"
   ]
  },
  {
   "cell_type": "code",
   "execution_count": null,
   "metadata": {},
   "outputs": [],
   "source": []
  }
 ],
 "metadata": {
  "kernelspec": {
   "display_name": "Python 3",
   "language": "python",
   "name": "python3"
  },
  "language_info": {
   "codemirror_mode": {
    "name": "ipython",
    "version": 3
   },
   "file_extension": ".py",
   "mimetype": "text/x-python",
   "name": "python",
   "nbconvert_exporter": "python",
   "pygments_lexer": "ipython3",
   "version": "3.7.4"
  }
 },
 "nbformat": 4,
 "nbformat_minor": 2
}
