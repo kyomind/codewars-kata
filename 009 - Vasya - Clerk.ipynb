{
 "cells": [
  {
   "cell_type": "code",
   "execution_count": 23,
   "metadata": {},
   "outputs": [],
   "source": [
    "def tickets(people):\n",
    "    pocket = []\n",
    "    for p in people:\n",
    "        if p == 25:\n",
    "            pocket.append(25)\n",
    "        elif p == 50:\n",
    "            if 25 in pocket:\n",
    "                pocket.remove(25)\n",
    "                pocket.append(50)\n",
    "            else:\n",
    "                return 'NO'\n",
    "        elif p == 100:\n",
    "            if 50 in pocket:\n",
    "                if 25 in pocket:\n",
    "                    pocket.remove(25)\n",
    "                    pocket.remove(50)\n",
    "                else:\n",
    "                    return 'NO'\n",
    "            else:\n",
    "                if pocket.count(25) >= 3:\n",
    "                    pocket.remove(25)\n",
    "                    pocket.remove(25)\n",
    "                    pocket.remove(25)\n",
    "                else:\n",
    "                    return 'NO'\n",
    "    return 'YES'   "
   ]
  },
  {
   "cell_type": "code",
   "execution_count": 24,
   "metadata": {},
   "outputs": [
    {
     "data": {
      "text/plain": [
       "True"
      ]
     },
     "execution_count": 24,
     "metadata": {},
     "output_type": "execute_result"
    }
   ],
   "source": [
    "25 in [25, 50]"
   ]
  },
  {
   "cell_type": "code",
   "execution_count": 25,
   "metadata": {},
   "outputs": [
    {
     "data": {
      "text/plain": [
       "'NO'"
      ]
     },
     "execution_count": 25,
     "metadata": {},
     "output_type": "execute_result"
    }
   ],
   "source": [
    "tickets([25, 50, 100])"
   ]
  },
  {
   "cell_type": "code",
   "execution_count": 22,
   "metadata": {},
   "outputs": [
    {
     "data": {
      "text/plain": [
       "2"
      ]
     },
     "execution_count": 22,
     "metadata": {},
     "output_type": "execute_result"
    }
   ],
   "source": [
    "[25, 25].count(25)"
   ]
  },
  {
   "cell_type": "code",
   "execution_count": null,
   "metadata": {},
   "outputs": [],
   "source": [
    "def tickets(people):\n",
    "    till = {100.0: 0, 50.0: 0, 25.0: 0}\n",
    "\n",
    "    for paid in people:\n",
    "        till[paid] += 1\n",
    "        change = paid - 25.0\n",
    "\n",
    "        for bill in (50, 25):\n",
    "            while (bill <= change and till[bill] > 0):\n",
    "                till[bill] -= 1\n",
    "                change -= bill\n",
    "\n",
    "        if change != 0:\n",
    "            return 'NO'\n",
    "\n",
    "    return 'YES'"
   ]
  }
 ],
 "metadata": {
  "kernelspec": {
   "display_name": "Python 3",
   "language": "python",
   "name": "python3"
  },
  "language_info": {
   "codemirror_mode": {
    "name": "ipython",
    "version": 3
   },
   "file_extension": ".py",
   "mimetype": "text/x-python",
   "name": "python",
   "nbconvert_exporter": "python",
   "pygments_lexer": "ipython3",
   "version": "3.8.5"
  }
 },
 "nbformat": 4,
 "nbformat_minor": 4
}
